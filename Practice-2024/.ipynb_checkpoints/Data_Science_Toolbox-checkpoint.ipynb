{
 "cells": [
  {
   "cell_type": "markdown",
   "id": "d90ceabf",
   "metadata": {},
   "source": [
    "## Built-in Functions"
   ]
  },
  {
   "cell_type": "code",
   "execution_count": 6,
   "id": "1912c8f7",
   "metadata": {},
   "outputs": [
    {
     "name": "stdout",
     "output_type": "stream",
     "text": [
      "5\n"
     ]
    }
   ],
   "source": [
    "#str() function\n",
    "\n",
    "a = str(5)\n",
    "\n",
    "print(a)"
   ]
  },
  {
   "cell_type": "markdown",
   "id": "af64c446",
   "metadata": {},
   "source": [
    "# User-defined Function"
   ]
  },
  {
   "cell_type": "markdown",
   "id": "b0c542f3",
   "metadata": {},
   "source": [
    "## without parameters"
   ]
  },
  {
   "cell_type": "code",
   "execution_count": 3,
   "id": "d8effdd9",
   "metadata": {},
   "outputs": [
    {
     "name": "stdout",
     "output_type": "stream",
     "text": [
      "25\n"
     ]
    }
   ],
   "source": [
    "# Function w/o parameters\n",
    "\n",
    "def square():           # -> Function header\n",
    "    new_value = 5 ** 2  # -> Function Body\n",
    "    print(new_value)\n",
    "\n",
    "square()"
   ]
  },
  {
   "cell_type": "markdown",
   "id": "062aa74f",
   "metadata": {},
   "source": [
    "## with parameters"
   ]
  },
  {
   "cell_type": "code",
   "execution_count": 7,
   "id": "10555362",
   "metadata": {},
   "outputs": [
    {
     "name": "stdout",
     "output_type": "stream",
     "text": [
      "625\n"
     ]
    }
   ],
   "source": [
    "# Function with parameters\n",
    "\n",
    "def square(value):           # -> Function header\n",
    "    new_value = value ** 2  # -> Function Body\n",
    "    print(new_value)\n",
    "\n",
    "square(25)"
   ]
  },
  {
   "cell_type": "code",
   "execution_count": 15,
   "id": "83ce4053",
   "metadata": {},
   "outputs": [
    {
     "name": "stdout",
     "output_type": "stream",
     "text": [
      "congratulations!!!\n"
     ]
    }
   ],
   "source": [
    "# Define shout with the parameter, word\n",
    "def shout(word):\n",
    "    \"\"\"Print a string with three exclamation marks\"\"\"\n",
    "    # Concatenate the strings: shout_word\n",
    "    shout_word = word + '!!!'\n",
    "\n",
    "    # Print shout_word\n",
    "    print(shout_word)\n",
    "\n",
    "# Call shout with the string 'congratulations'\n",
    "shout(\"congratulations\")"
   ]
  },
  {
   "cell_type": "markdown",
   "id": "b7e9418e",
   "metadata": {},
   "source": [
    "## with return"
   ]
  },
  {
   "cell_type": "code",
   "execution_count": 10,
   "id": "c1fd571c",
   "metadata": {},
   "outputs": [
    {
     "name": "stdout",
     "output_type": "stream",
     "text": [
      "1225\n"
     ]
    }
   ],
   "source": [
    "# Function with parameters + return\n",
    "\n",
    "def square(value):           # -> Function header\n",
    "    \"\"\"Returns the square of the value.\"\"\"  # -> Docstrings\n",
    "    new_value = value ** 2  # -> Function Body\n",
    "    return new_value\n",
    "\n",
    "num = square(35)\n",
    "print(num)"
   ]
  },
  {
   "cell_type": "code",
   "execution_count": 12,
   "id": "06d91d80",
   "metadata": {},
   "outputs": [
    {
     "name": "stdout",
     "output_type": "stream",
     "text": [
      "congratulations!!!\n"
     ]
    }
   ],
   "source": [
    "# Define shout with the parameter, word + return\n",
    "def shout(word):\n",
    "    \"\"\"Return a string with three exclamation marks\"\"\"\n",
    "    # Concatenate the strings: shout_word\n",
    "    shout_word = word + \"!!!\"\n",
    "\n",
    "    # Replace print with return\n",
    "    return shout_word\n",
    "\n",
    "# Pass 'congratulations' to shout: yell\n",
    "yell = shout(\"congratulations\")\n",
    "\n",
    "# Print yell\n",
    "print(yell)"
   ]
  },
  {
   "cell_type": "markdown",
   "id": "43dc5431",
   "metadata": {},
   "source": [
    "## Multiple Parameters"
   ]
  },
  {
   "cell_type": "code",
   "execution_count": null,
   "id": "c2395df5",
   "metadata": {},
   "outputs": [],
   "source": []
  },
  {
   "cell_type": "code",
   "execution_count": null,
   "id": "26856a2c",
   "metadata": {},
   "outputs": [],
   "source": []
  },
  {
   "cell_type": "code",
   "execution_count": null,
   "id": "067ec49f",
   "metadata": {},
   "outputs": [],
   "source": []
  }
 ],
 "metadata": {
  "kernelspec": {
   "display_name": "Python 3 (ipykernel)",
   "language": "python",
   "name": "python3"
  },
  "language_info": {
   "codemirror_mode": {
    "name": "ipython",
    "version": 3
   },
   "file_extension": ".py",
   "mimetype": "text/x-python",
   "name": "python",
   "nbconvert_exporter": "python",
   "pygments_lexer": "ipython3",
   "version": "3.9.12"
  }
 },
 "nbformat": 4,
 "nbformat_minor": 5
}
