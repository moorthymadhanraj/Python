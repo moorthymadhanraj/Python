{
 "cells": [
  {
   "cell_type": "markdown",
   "id": "ce06d1ea",
   "metadata": {},
   "source": [
    "# 1) Built-in Functions"
   ]
  },
  {
   "cell_type": "code",
   "execution_count": 6,
   "id": "08d5e087",
   "metadata": {},
   "outputs": [
    {
     "name": "stdout",
     "output_type": "stream",
     "text": [
      "5\n"
     ]
    }
   ],
   "source": [
    "#str() function\n",
    "\n",
    "a = str(5)\n",
    "\n",
    "print(a)"
   ]
  },
  {
   "cell_type": "markdown",
   "id": "97c98cae",
   "metadata": {},
   "source": [
    "# 2) User-defined Function"
   ]
  },
  {
   "cell_type": "markdown",
   "id": "431c357f",
   "metadata": {},
   "source": [
    "## without parameters"
   ]
  },
  {
   "cell_type": "code",
   "execution_count": 3,
   "id": "9859a531",
   "metadata": {},
   "outputs": [
    {
     "name": "stdout",
     "output_type": "stream",
     "text": [
      "25\n"
     ]
    }
   ],
   "source": [
    "# Function w/o parameters\n",
    "\n",
    "def square():           # -> Function header\n",
    "    new_value = 5 ** 2  # -> Function Body\n",
    "    print(new_value)\n",
    "\n",
    "square()"
   ]
  },
  {
   "cell_type": "markdown",
   "id": "bb3253bb",
   "metadata": {},
   "source": [
    "## with parameters"
   ]
  },
  {
   "cell_type": "code",
   "execution_count": 7,
   "id": "5c8eeba0",
   "metadata": {},
   "outputs": [
    {
     "name": "stdout",
     "output_type": "stream",
     "text": [
      "625\n"
     ]
    }
   ],
   "source": [
    "# Function with parameters\n",
    "\n",
    "def square(value):           # -> Function header\n",
    "    new_value = value ** 2  # -> Function Body\n",
    "    print(new_value)\n",
    "\n",
    "square(25)"
   ]
  },
  {
   "cell_type": "code",
   "execution_count": 15,
   "id": "dbc564f2",
   "metadata": {},
   "outputs": [
    {
     "name": "stdout",
     "output_type": "stream",
     "text": [
      "congratulations!!!\n"
     ]
    }
   ],
   "source": [
    "# Define shout with the parameter, word\n",
    "def shout(word):\n",
    "    \"\"\"Print a string with three exclamation marks\"\"\"\n",
    "    # Concatenate the strings: shout_word\n",
    "    shout_word = word + '!!!'\n",
    "\n",
    "    # Print shout_word\n",
    "    print(shout_word)\n",
    "\n",
    "# Call shout with the string 'congratulations'\n",
    "shout(\"congratulations\")"
   ]
  },
  {
   "cell_type": "markdown",
   "id": "75683fba",
   "metadata": {},
   "source": [
    "## with return"
   ]
  },
  {
   "cell_type": "code",
   "execution_count": 10,
   "id": "2eb27562",
   "metadata": {},
   "outputs": [
    {
     "name": "stdout",
     "output_type": "stream",
     "text": [
      "1225\n"
     ]
    }
   ],
   "source": [
    "# Function with parameters + return\n",
    "\n",
    "def square(value):           # -> Function header\n",
    "    \"\"\"Returns the square of the value.\"\"\"  # -> Docstrings\n",
    "    new_value = value ** 2  # -> Function Body\n",
    "    return new_value\n",
    "\n",
    "num = square(35)\n",
    "print(num)"
   ]
  },
  {
   "cell_type": "code",
   "execution_count": 12,
   "id": "c6eb9def",
   "metadata": {},
   "outputs": [
    {
     "name": "stdout",
     "output_type": "stream",
     "text": [
      "congratulations!!!\n"
     ]
    }
   ],
   "source": [
    "# Define shout with the parameter, word + return\n",
    "def shout(word):\n",
    "    \"\"\"Return a string with three exclamation marks\"\"\"\n",
    "    # Concatenate the strings: shout_word\n",
    "    shout_word = word + \"!!!\"\n",
    "\n",
    "    # Replace print with return\n",
    "    return shout_word\n",
    "\n",
    "# Pass 'congratulations' to shout: yell\n",
    "yell = shout(\"congratulations\")\n",
    "\n",
    "# Print yell\n",
    "print(yell)"
   ]
  },
  {
   "cell_type": "markdown",
   "id": "3d0582cf",
   "metadata": {},
   "source": [
    "## Multiple Parameters"
   ]
  },
  {
   "cell_type": "code",
   "execution_count": null,
   "id": "08219577",
   "metadata": {},
   "outputs": [],
   "source": []
  },
  {
   "cell_type": "code",
   "execution_count": null,
   "id": "7972e401",
   "metadata": {},
   "outputs": [],
   "source": []
  },
  {
   "cell_type": "code",
   "execution_count": null,
   "id": "4ca8eaae",
   "metadata": {},
   "outputs": [],
   "source": []
  },
  {
   "cell_type": "code",
   "execution_count": null,
   "id": "ccb5f0eb",
   "metadata": {},
   "outputs": [],
   "source": []
  },
  {
   "cell_type": "code",
   "execution_count": null,
   "id": "76df0db2",
   "metadata": {},
   "outputs": [],
   "source": []
  }
 ],
 "metadata": {
  "kernelspec": {
   "display_name": "Python 3 (ipykernel)",
   "language": "python",
   "name": "python3"
  },
  "language_info": {
   "codemirror_mode": {
    "name": "ipython",
    "version": 3
   },
   "file_extension": ".py",
   "mimetype": "text/x-python",
   "name": "python",
   "nbconvert_exporter": "python",
   "pygments_lexer": "ipython3",
   "version": "3.9.12"
  }
 },
 "nbformat": 4,
 "nbformat_minor": 5
}
