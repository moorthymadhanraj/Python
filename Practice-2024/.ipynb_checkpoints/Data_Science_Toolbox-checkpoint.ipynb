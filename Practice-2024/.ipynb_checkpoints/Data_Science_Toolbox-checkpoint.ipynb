{
 "cells": [
  {
   "cell_type": "markdown",
   "id": "f498ef5d",
   "metadata": {},
   "source": [
    "# 1) Built-in Functions"
   ]
  },
  {
   "cell_type": "code",
   "execution_count": 3,
   "id": "b1079ef1",
   "metadata": {},
   "outputs": [
    {
     "name": "stdout",
     "output_type": "stream",
     "text": [
      "4515\n"
     ]
    }
   ],
   "source": [
    "#str() function\n",
    "\n",
    "b = str(4515)\n",
    "\n",
    "print(b)"
   ]
  },
  {
   "cell_type": "markdown",
   "id": "442070be",
   "metadata": {},
   "source": [
    "# 2) User-defined Function"
   ]
  },
  {
   "cell_type": "markdown",
   "id": "4c1d5e8c",
   "metadata": {},
   "source": [
    "## without parameters"
   ]
  },
  {
   "cell_type": "code",
   "execution_count": 1,
   "id": "c2712d8d",
   "metadata": {},
   "outputs": [
    {
     "name": "stdout",
     "output_type": "stream",
     "text": [
      "25\n"
     ]
    }
   ],
   "source": [
    "# Function w/o parameters\n",
    "\n",
    "def square():           # -> Function header\n",
    "    new_value = 5 ** 2  # -> Function Body\n",
    "    print(new_value)\n",
    "\n",
    "square()"
   ]
  },
  {
   "cell_type": "code",
   "execution_count": 4,
   "id": "4de22852",
   "metadata": {},
   "outputs": [
    {
     "name": "stdout",
     "output_type": "stream",
     "text": [
      "64\n"
     ]
    }
   ],
   "source": [
    "def square():\n",
    "    new_value = 8 ** 2\n",
    "    print(new_value)\n",
    "    \n",
    "square()"
   ]
  },
  {
   "cell_type": "markdown",
   "id": "6322e64d",
   "metadata": {},
   "source": [
    "## with parameters"
   ]
  },
  {
   "cell_type": "code",
   "execution_count": 7,
   "id": "e2f14cdb",
   "metadata": {},
   "outputs": [
    {
     "name": "stdout",
     "output_type": "stream",
     "text": [
      "625\n"
     ]
    }
   ],
   "source": [
    "# Function with parameters\n",
    "\n",
    "def square(value):           # -> Function header\n",
    "    new_value = value ** 2  # -> Function Body\n",
    "    print(new_value)\n",
    "\n",
    "square(25)"
   ]
  },
  {
   "cell_type": "code",
   "execution_count": 15,
   "id": "e4a3952a",
   "metadata": {},
   "outputs": [
    {
     "name": "stdout",
     "output_type": "stream",
     "text": [
      "congratulations!!!\n"
     ]
    }
   ],
   "source": [
    "# Define shout with the parameter, word\n",
    "def shout(word):\n",
    "    \"\"\"Print a string with three exclamation marks\"\"\"\n",
    "    # Concatenate the strings: shout_word\n",
    "    shout_word = word + '!!!'\n",
    "\n",
    "    # Print shout_word\n",
    "    print(shout_word)\n",
    "\n",
    "# Call shout with the string 'congratulations'\n",
    "shout(\"congratulations\")"
   ]
  },
  {
   "cell_type": "markdown",
   "id": "64fe60b1",
   "metadata": {},
   "source": [
    "## with return"
   ]
  },
  {
   "cell_type": "code",
   "execution_count": 10,
   "id": "ebd37bed",
   "metadata": {},
   "outputs": [
    {
     "name": "stdout",
     "output_type": "stream",
     "text": [
      "1225\n"
     ]
    }
   ],
   "source": [
    "# Function with parameters + return\n",
    "\n",
    "def square(value):           # -> Function header\n",
    "    \"\"\"Returns the square of the value.\"\"\"  # -> Docstrings\n",
    "    new_value = value ** 2  # -> Function Body\n",
    "    return new_value\n",
    "\n",
    "num = square(35)\n",
    "print(num)"
   ]
  },
  {
   "cell_type": "code",
   "execution_count": 12,
   "id": "0b4a2136",
   "metadata": {},
   "outputs": [
    {
     "name": "stdout",
     "output_type": "stream",
     "text": [
      "congratulations!!!\n"
     ]
    }
   ],
   "source": [
    "# Define shout with the parameter, word + return\n",
    "def shout(word):\n",
    "    \"\"\"Return a string with three exclamation marks\"\"\"\n",
    "    # Concatenate the strings: shout_word\n",
    "    shout_word = word + \"!!!\"\n",
    "\n",
    "    # Replace print with return\n",
    "    return shout_word\n",
    "\n",
    "# Pass 'congratulations' to shout: yell\n",
    "yell = shout(\"congratulations\")\n",
    "\n",
    "# Print yell\n",
    "print(yell)"
   ]
  },
  {
   "cell_type": "markdown",
   "id": "c535ec1e",
   "metadata": {},
   "source": [
    "## Multiple Parameters"
   ]
  },
  {
   "cell_type": "code",
   "execution_count": 20,
   "id": "13605335",
   "metadata": {},
   "outputs": [
    {
     "name": "stdout",
     "output_type": "stream",
     "text": [
      "256\n"
     ]
    }
   ],
   "source": [
    "def raise_to_power(value1, value2):\n",
    "    \"\"\"Raise Value1 to the power of Value2\"\"\"\n",
    "    new_value = value1 ** value2\n",
    "    return new_value\n",
    "\n",
    "result = raise_to_power(2,8)\n",
    "print(result)"
   ]
  },
  {
   "cell_type": "markdown",
   "id": "1618d9b0",
   "metadata": {},
   "source": [
    "### Tuples"
   ]
  },
  {
   "cell_type": "code",
   "execution_count": 22,
   "id": "45c41686",
   "metadata": {},
   "outputs": [
    {
     "name": "stdout",
     "output_type": "stream",
     "text": [
      "<class 'tuple'>\n"
     ]
    }
   ],
   "source": [
    "# Using Tuples\n",
    "\n",
    "even_numbers = (2, 4, 6)\n",
    "print(type(even_numbers))"
   ]
  },
  {
   "cell_type": "code",
   "execution_count": 26,
   "id": "7aeb3a80",
   "metadata": {},
   "outputs": [
    {
     "name": "stdout",
     "output_type": "stream",
     "text": [
      "2\n"
     ]
    }
   ],
   "source": [
    "# Using Tuple values to variables\n",
    "\n",
    "even_numbers = (2, 4, 6)\n",
    "a, b, c = even_numbers\n",
    "print(a)"
   ]
  },
  {
   "cell_type": "code",
   "execution_count": 30,
   "id": "0ac7ac52",
   "metadata": {},
   "outputs": [
    {
     "name": "stdout",
     "output_type": "stream",
     "text": [
      "6\n"
     ]
    }
   ],
   "source": [
    "# Access Tuple elements like list\n",
    "\n",
    "even_numbers = (2, 4, 6)\n",
    "print(even_numbers[2])"
   ]
  },
  {
   "cell_type": "markdown",
   "id": "561f67e6",
   "metadata": {},
   "source": [
    "## Multiple Return Values"
   ]
  },
  {
   "cell_type": "code",
   "execution_count": 34,
   "id": "c420b6f4",
   "metadata": {},
   "outputs": [
    {
     "name": "stdout",
     "output_type": "stream",
     "text": [
      "(8, 9)\n"
     ]
    }
   ],
   "source": [
    "# Use tuples as return\n",
    "\n",
    "def raise_both(value1, value2):\n",
    "    \"\"\"Raise Value1 to the power of Value2 and vice versa\"\"\"\n",
    "    \n",
    "    new_value1 = value1 ** value2\n",
    "    new_value2 = value2 ** value1\n",
    "    \n",
    "    new_tuple = (new_value1, new_value2)\n",
    "    \n",
    "    return new_tuple\n",
    "\n",
    "result = raise_both(2, 3)\n",
    "print(result)"
   ]
  },
  {
   "cell_type": "markdown",
   "id": "c9d9113b",
   "metadata": {},
   "source": [
    "# 3) Functions in Twitter Data"
   ]
  },
  {
   "cell_type": "code",
   "execution_count": 35,
   "id": "17a54c25",
   "metadata": {},
   "outputs": [],
   "source": [
    "# Goal: Finding out how many languages are used on the tweets"
   ]
  },
  {
   "cell_type": "markdown",
   "id": "88f856ff",
   "metadata": {},
   "source": [
    "# 4) Functions with Default Arguments, Var-length Args, & Scope"
   ]
  },
  {
   "cell_type": "markdown",
   "id": "8b9c4609",
   "metadata": {},
   "source": [
    "## user-defined functions with scope"
   ]
  },
  {
   "cell_type": "markdown",
   "id": "5a9b1807",
   "metadata": {},
   "source": [
    "##"
   ]
  },
  {
   "cell_type": "code",
   "execution_count": 1,
   "id": "bb0e6c17",
   "metadata": {},
   "outputs": [
    {
     "name": "stdout",
     "output_type": "stream",
     "text": [
      "50\n"
     ]
    }
   ],
   "source": [
    "print(50)"
   ]
  },
  {
   "cell_type": "code",
   "execution_count": null,
   "id": "e3504b45",
   "metadata": {},
   "outputs": [],
   "source": []
  },
  {
   "cell_type": "code",
   "execution_count": null,
   "id": "a5316882",
   "metadata": {},
   "outputs": [],
   "source": []
  },
  {
   "cell_type": "code",
   "execution_count": null,
   "id": "5e24f53b",
   "metadata": {},
   "outputs": [],
   "source": []
  }
 ],
 "metadata": {
  "kernelspec": {
   "display_name": "Python 3 (ipykernel)",
   "language": "python",
   "name": "python3"
  },
  "language_info": {
   "codemirror_mode": {
    "name": "ipython",
    "version": 3
   },
   "file_extension": ".py",
   "mimetype": "text/x-python",
   "name": "python",
   "nbconvert_exporter": "python",
   "pygments_lexer": "ipython3",
   "version": "3.9.12"
  }
 },
 "nbformat": 4,
 "nbformat_minor": 5
}
