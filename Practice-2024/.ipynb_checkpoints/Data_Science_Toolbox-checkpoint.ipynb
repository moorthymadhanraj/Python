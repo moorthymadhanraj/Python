{
 "cells": [
  {
   "cell_type": "markdown",
   "id": "37511fec",
   "metadata": {},
   "source": [
    "## Built-in Functions"
   ]
  },
  {
   "cell_type": "code",
   "execution_count": 6,
   "id": "36ccc448",
   "metadata": {},
   "outputs": [
    {
     "name": "stdout",
     "output_type": "stream",
     "text": [
      "5\n"
     ]
    }
   ],
   "source": [
    "#str() function\n",
    "\n",
    "a = str(5)\n",
    "\n",
    "print(a)"
   ]
  },
  {
   "cell_type": "markdown",
   "id": "6edb33a0",
   "metadata": {},
   "source": [
    "# User-defined Function"
   ]
  },
  {
   "cell_type": "markdown",
   "id": "92a79417",
   "metadata": {},
   "source": [
    "## without parameters"
   ]
  },
  {
   "cell_type": "code",
   "execution_count": 3,
   "id": "9ef5e899",
   "metadata": {},
   "outputs": [
    {
     "name": "stdout",
     "output_type": "stream",
     "text": [
      "25\n"
     ]
    }
   ],
   "source": [
    "# Function w/o parameters\n",
    "\n",
    "def square():           # -> Function header\n",
    "    new_value = 5 ** 2  # -> Function Body\n",
    "    print(new_value)\n",
    "\n",
    "square()"
   ]
  },
  {
   "cell_type": "markdown",
   "id": "d1eb2e38",
   "metadata": {},
   "source": [
    "## with parameters"
   ]
  },
  {
   "cell_type": "code",
   "execution_count": 7,
   "id": "11da5694",
   "metadata": {},
   "outputs": [
    {
     "name": "stdout",
     "output_type": "stream",
     "text": [
      "625\n"
     ]
    }
   ],
   "source": [
    "# Function with parameters\n",
    "\n",
    "def square(value):           # -> Function header\n",
    "    new_value = value ** 2  # -> Function Body\n",
    "    print(new_value)\n",
    "\n",
    "square(25)"
   ]
  },
  {
   "cell_type": "code",
   "execution_count": 15,
   "id": "fb79091d",
   "metadata": {},
   "outputs": [
    {
     "name": "stdout",
     "output_type": "stream",
     "text": [
      "congratulations!!!\n"
     ]
    }
   ],
   "source": [
    "# Define shout with the parameter, word\n",
    "def shout(word):\n",
    "    \"\"\"Print a string with three exclamation marks\"\"\"\n",
    "    # Concatenate the strings: shout_word\n",
    "    shout_word = word + '!!!'\n",
    "\n",
    "    # Print shout_word\n",
    "    print(shout_word)\n",
    "\n",
    "# Call shout with the string 'congratulations'\n",
    "shout(\"congratulations\")"
   ]
  },
  {
   "cell_type": "markdown",
   "id": "dfdde8d1",
   "metadata": {},
   "source": [
    "## with return"
   ]
  },
  {
   "cell_type": "code",
   "execution_count": 10,
   "id": "c9fca81c",
   "metadata": {},
   "outputs": [
    {
     "name": "stdout",
     "output_type": "stream",
     "text": [
      "1225\n"
     ]
    }
   ],
   "source": [
    "# Function with parameters + return\n",
    "\n",
    "def square(value):           # -> Function header\n",
    "    \"\"\"Returns the square of the value.\"\"\"  # -> Docstrings\n",
    "    new_value = value ** 2  # -> Function Body\n",
    "    return new_value\n",
    "\n",
    "num = square(35)\n",
    "print(num)"
   ]
  },
  {
   "cell_type": "code",
   "execution_count": 12,
   "id": "df609cb7",
   "metadata": {},
   "outputs": [
    {
     "name": "stdout",
     "output_type": "stream",
     "text": [
      "congratulations!!!\n"
     ]
    }
   ],
   "source": [
    "# Define shout with the parameter, word + return\n",
    "def shout(word):\n",
    "    \"\"\"Return a string with three exclamation marks\"\"\"\n",
    "    # Concatenate the strings: shout_word\n",
    "    shout_word = word + \"!!!\"\n",
    "\n",
    "    # Replace print with return\n",
    "    return shout_word\n",
    "\n",
    "# Pass 'congratulations' to shout: yell\n",
    "yell = shout(\"congratulations\")\n",
    "\n",
    "# Print yell\n",
    "print(yell)"
   ]
  },
  {
   "cell_type": "markdown",
   "id": "d08eb6f9",
   "metadata": {},
   "source": [
    "## Multiple Parameters"
   ]
  },
  {
   "cell_type": "code",
   "execution_count": null,
   "id": "2e44461e",
   "metadata": {},
   "outputs": [],
   "source": []
  },
  {
   "cell_type": "code",
   "execution_count": null,
   "id": "5e491fe1",
   "metadata": {},
   "outputs": [],
   "source": []
  },
  {
   "cell_type": "code",
   "execution_count": null,
   "id": "4cd7b50f",
   "metadata": {},
   "outputs": [],
   "source": []
  }
 ],
 "metadata": {
  "kernelspec": {
   "display_name": "Python 3 (ipykernel)",
   "language": "python",
   "name": "python3"
  },
  "language_info": {
   "codemirror_mode": {
    "name": "ipython",
    "version": 3
   },
   "file_extension": ".py",
   "mimetype": "text/x-python",
   "name": "python",
   "nbconvert_exporter": "python",
   "pygments_lexer": "ipython3",
   "version": "3.9.12"
  }
 },
 "nbformat": 4,
 "nbformat_minor": 5
}
