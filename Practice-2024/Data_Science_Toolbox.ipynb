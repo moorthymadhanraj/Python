{
 "cells": [
  {
   "cell_type": "markdown",
   "id": "7771951e",
   "metadata": {},
   "source": [
    "## Built-in Functions"
   ]
  },
  {
   "cell_type": "code",
   "execution_count": 6,
   "id": "0e4e043f",
   "metadata": {},
   "outputs": [
    {
     "name": "stdout",
     "output_type": "stream",
     "text": [
      "5\n"
     ]
    }
   ],
   "source": [
    "#str() function\n",
    "\n",
    "a = str(5)\n",
    "\n",
    "print(a)"
   ]
  },
  {
   "cell_type": "markdown",
   "id": "37f475cc",
   "metadata": {},
   "source": [
    "# User-defined Function"
   ]
  },
  {
   "cell_type": "markdown",
   "id": "663ebd53",
   "metadata": {},
   "source": [
    "### without parameters"
   ]
  },
  {
   "cell_type": "code",
   "execution_count": 3,
   "id": "30804025",
   "metadata": {},
   "outputs": [
    {
     "name": "stdout",
     "output_type": "stream",
     "text": [
      "25\n"
     ]
    }
   ],
   "source": [
    "# Function w/o parameters\n",
    "\n",
    "def square():           # -> Function header\n",
    "    new_value = 5 ** 2  # -> Function Body\n",
    "    print(new_value)\n",
    "\n",
    "square()"
   ]
  },
  {
   "cell_type": "markdown",
   "id": "cdffb6bb",
   "metadata": {},
   "source": [
    "### with parameters"
   ]
  },
  {
   "cell_type": "code",
   "execution_count": 7,
   "id": "2de9e3c9",
   "metadata": {},
   "outputs": [
    {
     "name": "stdout",
     "output_type": "stream",
     "text": [
      "625\n"
     ]
    }
   ],
   "source": [
    "# Function with parameters\n",
    "\n",
    "def square(value):           # -> Function header\n",
    "    new_value = value ** 2  # -> Function Body\n",
    "    print(new_value)\n",
    "\n",
    "square(25)"
   ]
  },
  {
   "cell_type": "markdown",
   "id": "960f4ec0",
   "metadata": {},
   "source": [
    "### with return"
   ]
  },
  {
   "cell_type": "code",
   "execution_count": 10,
   "id": "fb50882d",
   "metadata": {},
   "outputs": [
    {
     "name": "stdout",
     "output_type": "stream",
     "text": [
      "1225\n"
     ]
    }
   ],
   "source": [
    "# Function with parameters + return\n",
    "\n",
    "def square(value):           # -> Function header\n",
    "    \"\"\"Returns the square of the value.\"\"\"  # -> Docstrings\n",
    "    new_value = value ** 2  # -> Function Body\n",
    "    return new_value\n",
    "\n",
    "num = square(35)\n",
    "print(num)"
   ]
  },
  {
   "cell_type": "code",
   "execution_count": null,
   "id": "df553d36",
   "metadata": {},
   "outputs": [],
   "source": []
  },
  {
   "cell_type": "code",
   "execution_count": null,
   "id": "dc5ad045",
   "metadata": {},
   "outputs": [],
   "source": []
  },
  {
   "cell_type": "code",
   "execution_count": null,
   "id": "1cb13c99",
   "metadata": {},
   "outputs": [],
   "source": []
  },
  {
   "cell_type": "code",
   "execution_count": null,
   "id": "29b56388",
   "metadata": {},
   "outputs": [],
   "source": []
  },
  {
   "cell_type": "code",
   "execution_count": null,
   "id": "3a607cdf",
   "metadata": {},
   "outputs": [],
   "source": []
  }
 ],
 "metadata": {
  "kernelspec": {
   "display_name": "Python 3 (ipykernel)",
   "language": "python",
   "name": "python3"
  },
  "language_info": {
   "codemirror_mode": {
    "name": "ipython",
    "version": 3
   },
   "file_extension": ".py",
   "mimetype": "text/x-python",
   "name": "python",
   "nbconvert_exporter": "python",
   "pygments_lexer": "ipython3",
   "version": "3.9.12"
  }
 },
 "nbformat": 4,
 "nbformat_minor": 5
}
