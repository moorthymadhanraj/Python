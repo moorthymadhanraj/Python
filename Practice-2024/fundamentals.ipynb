{
 "cells": [
  {
   "cell_type": "markdown",
   "id": "90800626",
   "metadata": {},
   "source": [
    "### PRINT function"
   ]
  },
  {
   "cell_type": "code",
   "execution_count": 1,
   "id": "d502cbd9",
   "metadata": {},
   "outputs": [
    {
     "name": "stdout",
     "output_type": "stream",
     "text": [
      "maddythebeast - BEAST MUST BE WAKEN!\n"
     ]
    }
   ],
   "source": [
    "print(\"maddythebeast - BEAST MUST BE WAKEN!\")"
   ]
  },
  {
   "cell_type": "code",
   "execution_count": 1,
   "id": "549b05ee",
   "metadata": {},
   "outputs": [
    {
     "name": "stdout",
     "output_type": "stream",
     "text": [
      "Print function testing in Jupyter notebook!!!\n"
     ]
    }
   ],
   "source": [
    "print(\"Print function testing in Jupyter notebook!!!\")"
   ]
  },
  {
   "cell_type": "code",
   "execution_count": 2,
   "id": "bcc7f8ff",
   "metadata": {},
   "outputs": [
    {
     "name": "stdout",
     "output_type": "stream",
     "text": [
      "Revising again python Zero to Hero!\n"
     ]
    }
   ],
   "source": [
    "print(\"Revising again python Zero to Hero!\")"
   ]
  },
  {
   "cell_type": "markdown",
   "id": "0ba933dc",
   "metadata": {},
   "source": [
    "### whilel loop"
   ]
  },
  {
   "cell_type": "code",
   "execution_count": 4,
   "id": "53b21bc1",
   "metadata": {},
   "outputs": [
    {
     "name": "stdout",
     "output_type": "stream",
     "text": [
      "12.5\n",
      "3.125\n",
      "0.78125\n"
     ]
    }
   ],
   "source": [
    "# While loop testing\n",
    "error = 50.0\n",
    "\n",
    "while error > 1 :\n",
    "    error = error / 4\n",
    "    print(error)"
   ]
  },
  {
   "cell_type": "markdown",
   "id": "fcbc67a3",
   "metadata": {},
   "source": [
    "### for loop"
   ]
  },
  {
   "cell_type": "code",
   "execution_count": 3,
   "id": "fab4fbfb",
   "metadata": {},
   "outputs": [
    {
     "name": "stdout",
     "output_type": "stream",
     "text": [
      "11.25\n",
      "18.0\n",
      "20.0\n",
      "10.75\n",
      "9.5\n"
     ]
    }
   ],
   "source": [
    "# for loop with lists\n",
    "\n",
    "areas = [11.25, 18.0, 20.0, 10.75, 9.50]\n",
    "\n",
    "for area in areas :\n",
    "    print(area)"
   ]
  },
  {
   "cell_type": "code",
   "execution_count": 5,
   "id": "d6199044",
   "metadata": {},
   "outputs": [
    {
     "name": "stdout",
     "output_type": "stream",
     "text": [
      "room 0: 11.25\n",
      "room 1: 18.0\n",
      "room 2: 20.0\n",
      "room 3: 10.75\n",
      "room 4: 9.5\n"
     ]
    }
   ],
   "source": [
    "# for loop - printing the list with index\n",
    "\n",
    "areas = [11.25, 18.0, 20.0, 10.75, 9.50]\n",
    "\n",
    "for index, area in enumerate(areas) :\n",
    "    print(\"room \" + str(index) + \": \" + str(area))"
   ]
  },
  {
   "cell_type": "code",
   "execution_count": 4,
   "id": "3de0920c",
   "metadata": {},
   "outputs": [
    {
     "name": "stdout",
     "output_type": "stream",
     "text": [
      "the hallway is 11.25 sqm\n",
      "the kitchen is 18.0 sqm\n",
      "the living room is 20.0 sqm\n",
      "the bedroom is 10.75 sqm\n",
      "the bathroom is 9.5 sqm\n",
      "the storeroom is 6.7 sqm\n"
     ]
    }
   ],
   "source": [
    "# for loop - list of lists\n",
    "\n",
    "house = [[\"hallway\", 11.25], \n",
    "         [\"kitchen\", 18.0], \n",
    "         [\"living room\", 20.0], \n",
    "         [\"bedroom\", 10.75], \n",
    "         [\"bathroom\", 9.50],\n",
    "        [\"storeroom\", 6.70]]\n",
    "         \n",
    "# Build a for loop from scratch\n",
    "for x in house :\n",
    "    print(\"the \" + x[0] + \" is \" + str(x[1]) + \" sqm\")"
   ]
  },
  {
   "cell_type": "code",
   "execution_count": 4,
   "id": "50f3cd93",
   "metadata": {},
   "outputs": [
    {
     "name": "stdout",
     "output_type": "stream",
     "text": [
      "the capital of spain is madrid\n",
      "the capital of france is paris\n",
      "the capital of germany is berlin\n",
      "the capital of norway is oslo\n",
      "the capital of italy is rome\n",
      "the capital of poland is warsaw\n",
      "the capital of austria is vienna\n"
     ]
    }
   ],
   "source": [
    "# for loop with Dictionaries - Use \"items\" method my_dict.items()\n",
    "\n",
    "# Definition of dictionary\n",
    "europe = {'spain':'madrid', 'france':'paris', 'germany':'berlin',\n",
    "          'norway':'oslo', 'italy':'rome', 'poland':'warsaw', 'austria':'vienna' }\n",
    "          \n",
    "# Iterate over europe (using key, value - it can be any name ex: k, v)\n",
    "for x, y in europe.items() :\n",
    "    print(\"the capital of \" + x + \" is \" + y)"
   ]
  },
  {
   "cell_type": "code",
   "execution_count": 13,
   "id": "9a0fcd52",
   "metadata": {},
   "outputs": [
    {
     "name": "stdout",
     "output_type": "stream",
     "text": [
      "height is 1.73 inches\n",
      "height is 1.68 inches\n",
      "height is 1.71 inches\n",
      "height is 1.89 inches\n",
      "height is 1.79 inches\n"
     ]
    }
   ],
   "source": [
    "# for loop with Numpy Array - Use function from Numpy np.nditer(2d_np_array)\n",
    "\n",
    "import numpy as np\n",
    "\n",
    "np_height = np.array([1.73, 1.68, 1.71, 1.89, 1.79])\n",
    "np_weight = np.array([65.4, 59.2, 63.6, 88.4, 68.7])\n",
    "\n",
    "# For loop over np_height\n",
    "for x in np.nditer(np_height) :\n",
    "    print(\"height is \" + str(x) + \" inches\")\n",
    "\n",
    "# For loop over np_baseball\n",
    "#for y in np.nditer(np_baseball) :\n",
    "#    print(y)"
   ]
  },
  {
   "cell_type": "code",
   "execution_count": 2,
   "id": "ef8f3fdd",
   "metadata": {},
   "outputs": [
    {
     "name": "stdout",
     "output_type": "stream",
     "text": [
      "country\n",
      "capital\n",
      "area\n",
      "population\n"
     ]
    }
   ],
   "source": [
    "# for loop with DataFrame - Use default for loop\n",
    "\n",
    "import pandas as pd\n",
    "brics = pd.read_csv(\"C:/Users/Neu/Documents/GitHub/Python/Practice-2024/Datasets/brics.csv\", index_col=0)\n",
    "for val in brics :\n",
    "    print(val)"
   ]
  },
  {
   "cell_type": "code",
   "execution_count": 1,
   "id": "9fde27a6",
   "metadata": {},
   "outputs": [
    {
     "name": "stdout",
     "output_type": "stream",
     "text": [
      "BR\n",
      "country         Brazil\n",
      "capital       Brasilia\n",
      "area             8.516\n",
      "population       200.4\n",
      "Name: BR, dtype: object\n",
      "RU\n",
      "country       Russia\n",
      "capital       Moscow\n",
      "area            17.1\n",
      "population     143.5\n",
      "Name: RU, dtype: object\n",
      "IN\n",
      "country           India\n",
      "capital       New Delhi\n",
      "area              3.286\n",
      "population       1252.0\n",
      "Name: IN, dtype: object\n",
      "CH\n",
      "country         China\n",
      "capital       Beijing\n",
      "area            9.597\n",
      "population     1357.0\n",
      "Name: CH, dtype: object\n",
      "SA\n",
      "country       South Africa\n",
      "capital           Pretoria\n",
      "area                 1.221\n",
      "population           52.98\n",
      "Name: SA, dtype: object\n",
      "nan\n",
      "country       NaN\n",
      "capital       NaN\n",
      "area          NaN\n",
      "population    NaN\n",
      "Name: nan, dtype: object\n"
     ]
    }
   ],
   "source": [
    "# for loop with DataFrame - Using \"iterrows\" method generates laebl and row for each iteration\n",
    "\n",
    "import pandas as pd\n",
    "brics = pd.read_csv(\"C:/Users/Neu/Documents/GitHub/Python/Practice-2024/Datasets/brics.csv\", index_col=0)\n",
    "for label, row in brics.iterrows() :\n",
    "    print(label)\n",
    "    print(row)"
   ]
  },
  {
   "cell_type": "code",
   "execution_count": 2,
   "id": "db82d030",
   "metadata": {
    "scrolled": true
   },
   "outputs": [
    {
     "name": "stdout",
     "output_type": "stream",
     "text": [
      "BR: Brasilia\n",
      "RU: Moscow\n",
      "IN: New Delhi\n",
      "CH: Beijing\n",
      "SA: Pretoria\n"
     ]
    },
    {
     "ename": "TypeError",
     "evalue": "unsupported operand type(s) for +: 'float' and 'str'",
     "output_type": "error",
     "traceback": [
      "\u001b[1;31m---------------------------------------------------------------------------\u001b[0m",
      "\u001b[1;31mTypeError\u001b[0m                                 Traceback (most recent call last)",
      "Input \u001b[1;32mIn [2]\u001b[0m, in \u001b[0;36m<cell line: 6>\u001b[1;34m()\u001b[0m\n\u001b[0;32m      4\u001b[0m brics \u001b[38;5;241m=\u001b[39m pd\u001b[38;5;241m.\u001b[39mread_csv(\u001b[38;5;124m\"\u001b[39m\u001b[38;5;124mC:/Users/Neu/Documents/GitHub/Python/Practice-2024/Datasets/brics.csv\u001b[39m\u001b[38;5;124m\"\u001b[39m, index_col\u001b[38;5;241m=\u001b[39m\u001b[38;5;241m0\u001b[39m)\n\u001b[0;32m      6\u001b[0m \u001b[38;5;28;01mfor\u001b[39;00m label, row \u001b[38;5;129;01min\u001b[39;00m brics\u001b[38;5;241m.\u001b[39miterrows() :\n\u001b[1;32m----> 7\u001b[0m     \u001b[38;5;28mprint\u001b[39m(\u001b[43mlabel\u001b[49m\u001b[43m \u001b[49m\u001b[38;5;241;43m+\u001b[39;49m\u001b[43m \u001b[49m\u001b[38;5;124;43m\"\u001b[39;49m\u001b[38;5;124;43m: \u001b[39;49m\u001b[38;5;124;43m\"\u001b[39;49m \u001b[38;5;241m+\u001b[39m row[\u001b[38;5;124m\"\u001b[39m\u001b[38;5;124mcapital\u001b[39m\u001b[38;5;124m\"\u001b[39m])\n",
      "\u001b[1;31mTypeError\u001b[0m: unsupported operand type(s) for +: 'float' and 'str'"
     ]
    }
   ],
   "source": [
    "# for loop with DataFrame - To print \"selectively\"\n",
    "\n",
    "import pandas as pd\n",
    "brics = pd.read_csv(\"C:/Users/Neu/Documents/GitHub/Python/Practice-2024/Datasets/brics.csv\", index_col=0)\n",
    "\n",
    "for label, row in brics.iterrows() :\n",
    "    print(label + \": \" + row[\"capital\"])"
   ]
  },
  {
   "cell_type": "code",
   "execution_count": 26,
   "id": "a4f88864",
   "metadata": {},
   "outputs": [
    {
     "name": "stdout",
     "output_type": "stream",
     "text": [
      "          country    capital    area  population  name_length\n",
      "BR         Brazil   Brasilia   8.516      200.40          8.0\n",
      "RU         Russia     Moscow  17.100      143.50          NaN\n",
      "IN          India  New Delhi   3.286     1252.00          NaN\n",
      "CH          China    Beijing   9.597     1357.00          NaN\n",
      "SA   South Africa   Pretoria   1.221       52.98          NaN\n",
      "NaN           NaN        NaN     NaN         NaN          NaN\n",
      "          country    capital    area  population  name_length\n",
      "BR         Brazil   Brasilia   8.516      200.40          8.0\n",
      "RU         Russia     Moscow  17.100      143.50          6.0\n",
      "IN          India  New Delhi   3.286     1252.00          NaN\n",
      "CH          China    Beijing   9.597     1357.00          NaN\n",
      "SA   South Africa   Pretoria   1.221       52.98          NaN\n",
      "NaN           NaN        NaN     NaN         NaN          NaN\n",
      "          country    capital    area  population  name_length\n",
      "BR         Brazil   Brasilia   8.516      200.40          8.0\n",
      "RU         Russia     Moscow  17.100      143.50          6.0\n",
      "IN          India  New Delhi   3.286     1252.00          9.0\n",
      "CH          China    Beijing   9.597     1357.00          NaN\n",
      "SA   South Africa   Pretoria   1.221       52.98          NaN\n",
      "NaN           NaN        NaN     NaN         NaN          NaN\n",
      "          country    capital    area  population  name_length\n",
      "BR         Brazil   Brasilia   8.516      200.40          8.0\n",
      "RU         Russia     Moscow  17.100      143.50          6.0\n",
      "IN          India  New Delhi   3.286     1252.00          9.0\n",
      "CH          China    Beijing   9.597     1357.00          7.0\n",
      "SA   South Africa   Pretoria   1.221       52.98          NaN\n",
      "NaN           NaN        NaN     NaN         NaN          NaN\n",
      "          country    capital    area  population  name_length\n",
      "BR         Brazil   Brasilia   8.516      200.40          8.0\n",
      "RU         Russia     Moscow  17.100      143.50          6.0\n",
      "IN          India  New Delhi   3.286     1252.00          9.0\n",
      "CH          China    Beijing   9.597     1357.00          7.0\n",
      "SA   South Africa   Pretoria   1.221       52.98          8.0\n",
      "NaN           NaN        NaN     NaN         NaN          NaN\n"
     ]
    },
    {
     "ename": "TypeError",
     "evalue": "object of type 'float' has no len()",
     "output_type": "error",
     "traceback": [
      "\u001b[1;31m---------------------------------------------------------------------------\u001b[0m",
      "\u001b[1;31mTypeError\u001b[0m                                 Traceback (most recent call last)",
      "Input \u001b[1;32mIn [26]\u001b[0m, in \u001b[0;36m<cell line: 6>\u001b[1;34m()\u001b[0m\n\u001b[0;32m      4\u001b[0m brics \u001b[38;5;241m=\u001b[39m pd\u001b[38;5;241m.\u001b[39mread_csv(\u001b[38;5;124m\"\u001b[39m\u001b[38;5;124mC:/Users/Neu/Documents/GitHub/Python/Practice-2024/Datasets/brics.csv\u001b[39m\u001b[38;5;124m\"\u001b[39m, index_col\u001b[38;5;241m=\u001b[39m\u001b[38;5;241m0\u001b[39m)\n\u001b[0;32m      6\u001b[0m \u001b[38;5;28;01mfor\u001b[39;00m label, row \u001b[38;5;129;01min\u001b[39;00m brics\u001b[38;5;241m.\u001b[39miterrows() :\n\u001b[0;32m      7\u001b[0m     \u001b[38;5;66;03m#creating Series on every iteration\u001b[39;00m\n\u001b[1;32m----> 8\u001b[0m     brics\u001b[38;5;241m.\u001b[39mloc[label, \u001b[38;5;124m\"\u001b[39m\u001b[38;5;124mname_length\u001b[39m\u001b[38;5;124m\"\u001b[39m] \u001b[38;5;241m=\u001b[39m \u001b[38;5;28;43mlen\u001b[39;49m\u001b[43m(\u001b[49m\u001b[43mrow\u001b[49m\u001b[43m[\u001b[49m\u001b[38;5;124;43m\"\u001b[39;49m\u001b[38;5;124;43mcapital\u001b[39;49m\u001b[38;5;124;43m\"\u001b[39;49m\u001b[43m]\u001b[49m\u001b[43m)\u001b[49m\n\u001b[0;32m      9\u001b[0m     \u001b[38;5;28mprint\u001b[39m(brics)\n",
      "\u001b[1;31mTypeError\u001b[0m: object of type 'float' has no len()"
     ]
    }
   ],
   "source": [
    "# for loop with DataFrame - Adding New Columns in a DF\n",
    "\n",
    "import pandas as pd\n",
    "brics = pd.read_csv(\"C:/Users/Neu/Documents/GitHub/Python/Practice-2024/Datasets/brics.csv\", index_col=0)\n",
    "\n",
    "for label, row in brics.iterrows() :\n",
    "    #creating Series on every iteration\n",
    "    brics.loc[label, \"name_length\"] = len(row[\"capital\"])\n",
    "    print(brics)"
   ]
  },
  {
   "cell_type": "code",
   "execution_count": 30,
   "id": "5cb6720e",
   "metadata": {},
   "outputs": [],
   "source": [
    "# for loop with DataFrame - Using \"apply\" function to calculate a column values in a DF - no need for loop\n",
    "\n",
    "#import pandas as pd\n",
    "#brics = pd.read_csv(\"C:/Users/Neu/Documents/GitHub/Python/Practice-2024/Datasets/brics.csv\", index_col=0)\n",
    "\n",
    "#brics[\"name_length\"] = brics[\"country\"].apply(len)\n",
    "#print(brics)"
   ]
  },
  {
   "cell_type": "markdown",
   "id": "f4908d2b",
   "metadata": {},
   "source": [
    "### VARIABLES"
   ]
  },
  {
   "cell_type": "code",
   "execution_count": 5,
   "id": "e30624c9",
   "metadata": {},
   "outputs": [
    {
     "data": {
      "text/plain": [
       "1597"
      ]
     },
     "execution_count": 5,
     "metadata": {},
     "output_type": "execute_result"
    }
   ],
   "source": [
    "# Variables - stores values\n",
    "\n",
    "x = 632\n",
    "y = 965\n",
    "z = x + y\n",
    "z"
   ]
  },
  {
   "cell_type": "markdown",
   "id": "72753445",
   "metadata": {},
   "source": [
    "## Dictionaries"
   ]
  },
  {
   "cell_type": "code",
   "execution_count": 8,
   "id": "e7477784",
   "metadata": {},
   "outputs": [
    {
     "name": "stdout",
     "output_type": "stream",
     "text": [
      "{'spain': 'madrid', 'france': 'paris', 'germany': 'berlin', 'norway': 'oslo'}\n"
     ]
    }
   ],
   "source": [
    "#Creating Dictionaries\n",
    "\n",
    "# Definition of countries and capital\n",
    "countries = ['spain', 'france', 'germany', 'norway']\n",
    "capitals = ['madrid', 'paris', 'berlin', 'oslo']\n",
    "\n",
    "# From string in countries and capitals, create dictionary europe\n",
    "europe = {'spain':'madrid', 'france':'paris', 'germany':'berlin', 'norway':'oslo'}\n",
    "\n",
    "# Print europe\n",
    "print(europe)"
   ]
  },
  {
   "cell_type": "code",
   "execution_count": 9,
   "id": "8806d7d8",
   "metadata": {},
   "outputs": [
    {
     "name": "stdout",
     "output_type": "stream",
     "text": [
      "dict_keys(['spain', 'france', 'germany', 'norway'])\n",
      "oslo\n"
     ]
    }
   ],
   "source": [
    "# Accessing Dictionaries\n",
    "\n",
    "# Definition of dictionary\n",
    "europe = {'spain':'madrid', 'france':'paris', 'germany':'berlin', 'norway':'oslo' }\n",
    "\n",
    "# Print out the keys in europe\n",
    "print(europe.keys())\n",
    "\n",
    "# Print out value that belongs to key 'norway'\n",
    "print(europe['norway'])"
   ]
  },
  {
   "cell_type": "code",
   "execution_count": null,
   "id": "b7182e63",
   "metadata": {},
   "outputs": [],
   "source": []
  }
 ],
 "metadata": {
  "kernelspec": {
   "display_name": "Python 3 (ipykernel)",
   "language": "python",
   "name": "python3"
  },
  "language_info": {
   "codemirror_mode": {
    "name": "ipython",
    "version": 3
   },
   "file_extension": ".py",
   "mimetype": "text/x-python",
   "name": "python",
   "nbconvert_exporter": "python",
   "pygments_lexer": "ipython3",
   "version": "3.9.12"
  }
 },
 "nbformat": 4,
 "nbformat_minor": 5
}
