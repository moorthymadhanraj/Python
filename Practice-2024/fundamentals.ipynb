{
 "cells": [
  {
   "cell_type": "markdown",
   "id": "90800626",
   "metadata": {},
   "source": [
    "### PRINT function"
   ]
  },
  {
   "cell_type": "code",
   "execution_count": 3,
   "id": "d502cbd9",
   "metadata": {},
   "outputs": [
    {
     "name": "stdout",
     "output_type": "stream",
     "text": [
      "maddythebeast\n"
     ]
    }
   ],
   "source": [
    "print(\"maddythebeast\")"
   ]
  },
  {
   "cell_type": "code",
   "execution_count": 5,
   "id": "549b05ee",
   "metadata": {},
   "outputs": [
    {
     "name": "stdout",
     "output_type": "stream",
     "text": [
      "Print function testing in Jupyter!!!\n"
     ]
    }
   ],
   "source": [
    "print(\"Print function testing in Jupyter!!!\")"
   ]
  },
  {
   "cell_type": "code",
   "execution_count": 6,
   "id": "bcc7f8ff",
   "metadata": {},
   "outputs": [
    {
     "name": "stdout",
     "output_type": "stream",
     "text": [
      "Learning Python Zero to Hero !!!\n"
     ]
    }
   ],
   "source": [
    "print(\"Learning Python Zero to Hero !!!\")"
   ]
  },
  {
   "cell_type": "markdown",
   "id": "f4908d2b",
   "metadata": {},
   "source": [
    "### VARIABLES"
   ]
  },
  {
   "cell_type": "code",
   "execution_count": null,
   "id": "e30624c9",
   "metadata": {},
   "outputs": [],
   "source": []
  }
 ],
 "metadata": {
  "kernelspec": {
   "display_name": "Python 3 (ipykernel)",
   "language": "python",
   "name": "python3"
  },
  "language_info": {
   "codemirror_mode": {
    "name": "ipython",
    "version": 3
   },
   "file_extension": ".py",
   "mimetype": "text/x-python",
   "name": "python",
   "nbconvert_exporter": "python",
   "pygments_lexer": "ipython3",
   "version": "3.9.12"
  }
 },
 "nbformat": 4,
 "nbformat_minor": 5
}
