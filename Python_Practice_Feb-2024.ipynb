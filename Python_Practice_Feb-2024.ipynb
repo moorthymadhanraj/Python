{
 "cells": [
  {
   "cell_type": "code",
   "execution_count": 3,
   "id": "52e70218",
   "metadata": {},
   "outputs": [
    {
     "name": "stdout",
     "output_type": "stream",
     "text": [
      "maddythebeast\n"
     ]
    }
   ],
   "source": [
    "print(\"maddythebeast\")"
   ]
  },
  {
   "cell_type": "code",
   "execution_count": 5,
   "id": "67f7b039",
   "metadata": {},
   "outputs": [
    {
     "name": "stdout",
     "output_type": "stream",
     "text": [
      "Print function testing in Jupyter!!!\n"
     ]
    }
   ],
   "source": [
    "print(\"Print function testing in Jupyter!!!\")"
   ]
  },
  {
   "cell_type": "code",
   "execution_count": null,
   "id": "44613226",
   "metadata": {},
   "outputs": [],
   "source": []
  }
 ],
 "metadata": {
  "kernelspec": {
   "display_name": "Python 3 (ipykernel)",
   "language": "python",
   "name": "python3"
  },
  "language_info": {
   "codemirror_mode": {
    "name": "ipython",
    "version": 3
   },
   "file_extension": ".py",
   "mimetype": "text/x-python",
   "name": "python",
   "nbconvert_exporter": "python",
   "pygments_lexer": "ipython3",
   "version": "3.9.12"
  }
 },
 "nbformat": 4,
 "nbformat_minor": 5
}
